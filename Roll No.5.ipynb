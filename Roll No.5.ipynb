{
 "cells": [
  {
   "cell_type": "markdown",
   "id": "bf23160e",
   "metadata": {},
   "source": [
    "# Using IMDB review dataset, perform sentiment classification using LSTM and BiLSTM and compare result"
   ]
  },
  {
   "cell_type": "code",
   "execution_count": 5,
   "id": "4b06e9a0",
   "metadata": {},
   "outputs": [
    {
     "ename": "AttributeError",
     "evalue": "'list' object has no attribute 'shape'",
     "output_type": "error",
     "traceback": [
      "\u001b[1;31m---------------------------------------------------------------------------\u001b[0m",
      "\u001b[1;31mAttributeError\u001b[0m                            Traceback (most recent call last)",
      "Cell \u001b[1;32mIn[5], line 14\u001b[0m\n\u001b[0;32m     11\u001b[0m (train_data, train_labels), (test_data, test_labels) \u001b[38;5;241m=\u001b[39m imdb\u001b[38;5;241m.\u001b[39mload_data(num_words\u001b[38;5;241m=\u001b[39m\u001b[38;5;241m10000\u001b[39m)\n\u001b[0;32m     13\u001b[0m \u001b[38;5;66;03m# Display dataset shape\u001b[39;00m\n\u001b[1;32m---> 14\u001b[0m \u001b[38;5;28mprint\u001b[39m(\u001b[38;5;124mf\u001b[39m\u001b[38;5;124m'\u001b[39m\u001b[38;5;124mTraining data shape: \u001b[39m\u001b[38;5;132;01m{\u001b[39;00m\u001b[43mtrain_data\u001b[49m\u001b[38;5;241;43m.\u001b[39;49m\u001b[43mshape\u001b[49m\u001b[38;5;132;01m}\u001b[39;00m\u001b[38;5;124m'\u001b[39m)\n\u001b[0;32m     15\u001b[0m \u001b[38;5;28mprint\u001b[39m(\u001b[38;5;124mf\u001b[39m\u001b[38;5;124m'\u001b[39m\u001b[38;5;124mTraining labels shape: \u001b[39m\u001b[38;5;132;01m{\u001b[39;00mtrain_labels\u001b[38;5;241m.\u001b[39mshape\u001b[38;5;132;01m}\u001b[39;00m\u001b[38;5;124m'\u001b[39m)\n\u001b[0;32m     16\u001b[0m \u001b[38;5;28mprint\u001b[39m(\u001b[38;5;124mf\u001b[39m\u001b[38;5;124m'\u001b[39m\u001b[38;5;124mTesting data shape: \u001b[39m\u001b[38;5;132;01m{\u001b[39;00mtest_data\u001b[38;5;241m.\u001b[39mshape\u001b[38;5;132;01m}\u001b[39;00m\u001b[38;5;124m'\u001b[39m)\n",
      "\u001b[1;31mAttributeError\u001b[0m: 'list' object has no attribute 'shape'"
     ]
    }
   ],
   "source": [
    "import numpy as np\n",
    "import pandas as pd\n",
    "import matplotlib.pyplot as plt\n",
    "from tensorflow.keras.datasets import imdb\n",
    "from tensorflow.keras.preprocessing.sequence import pad_sequences\n",
    "from tensorflow.keras.models import Sequential\n",
    "from tensorflow.keras.layers import Embedding, LSTM, Dense, Bidirectional\n",
    "from tensorflow.keras.utils import to_categorical\n",
    "\n",
    "# Load the IMDB dataset\n",
    "(train_data, train_labels), (test_data, test_labels) = imdb.load_data(num_words=10000)\n",
    "\n",
    "# Display dataset shape\n",
    "print(f'Training data shape: {train_data.shape}')\n",
    "print(f'Training labels shape: {train_labels.shape}')\n",
    "print(f'Testing data shape: {test_data.shape}')\n",
    "print(f'Testing labels shape: {test_labels.shape}')\n",
    "\n",
    "# Pad sequences to a maximum length of 500\n",
    "max_length = 500\n",
    "train_data = pad_sequences(train_data, maxlen=max_length)\n",
    "test_data = pad_sequences(test_data, maxlen=max_length)\n",
    "\n",
    "# Convert labels to categorical (if necessary)\n",
    "train_labels = np.array(train_labels)\n",
    "test_labels = np.array(test_labels)\n",
    "\n",
    "# Check padded data shape\n",
    "print(f'Padded training data shape: {train_data.shape}')\n",
    "print(f'Padded testing data shape: {test_data.shape}')\n",
    "\n",
    "def create_model(is_bidirectional=False):\n",
    "    model = Sequential()\n",
    "    model.add(Embedding(input_dim=10000, output_dim=128, input_length=max_length))\n",
    "    if is_bidirectional:\n",
    "        model.add(Bidirectional(LSTM(64)))\n",
    "    else:\n",
    "        model.add(LSTM(64))\n",
    "    model.add(Dense(1, activation='sigmoid'))  # Binary classification\n",
    "    model.compile(loss='binary_crossentropy', optimizer='adam', metrics=['accuracy'])\n",
    "    return model\n",
    "\n",
    "# Create LSTM model\n",
    "lstm_model = create_model()\n",
    "lstm_model.summary()\n",
    "\n",
    "# Train LSTM model\n",
    "lstm_history = lstm_model.fit(train_data, train_labels, epochs=5, batch_size=64, validation_split=0.2)\n",
    "\n",
    "# Evaluate LSTM model\n",
    "lstm_loss, lstm_accuracy = lstm_model.evaluate(test_data, test_labels)\n",
    "print(f'LSTM Test Accuracy: {lstm_accuracy:.2f}')\n",
    "\n",
    "# Create BiLSTM model\n",
    "bilstm_model = create_model(is_bidirectional=True)\n",
    "bilstm_model.summary()\n",
    "\n",
    "# Train BiLSTM model\n",
    "bilstm_history = bilstm_model.fit(train_data, train_labels, epochs=5, batch_size=64, validation_split=0.2)\n",
    "\n",
    "# Evaluate BiLSTM model\n",
    "bilstm_loss, bilstm_accuracy = bilstm_model.evaluate(test_data, test_labels)\n",
    "print(f'BiLSTM Test Accuracy: {bilstm_accuracy:.2f}')\n",
    "\n",
    "# Plot training & validation accuracy\n",
    "plt.plot(lstm_history.history['accuracy'], label='LSTM Training Accuracy')\n",
    "plt.plot(lstm_history.history['val_accuracy'], label='LSTM Validation Accuracy')\n",
    "plt.plot(bilstm_history.history['accuracy'], label='BiLSTM Training Accuracy')\n",
    "plt.plot(bilstm_history.history['val_accuracy'], label='BiLSTM Validation Accuracy')\n",
    "plt.title('Model Accuracy Comparison')\n",
    "plt.xlabel('Epochs')\n",
    "plt.ylabel('Accuracy')\n",
    "plt.legend()\n",
    "plt.show()"
   ]
  },
  {
   "cell_type": "code",
   "execution_count": null,
   "id": "69686a87",
   "metadata": {},
   "outputs": [],
   "source": []
  }
 ],
 "metadata": {
  "kernelspec": {
   "display_name": "Python 3 (ipykernel)",
   "language": "python",
   "name": "python3"
  },
  "language_info": {
   "codemirror_mode": {
    "name": "ipython",
    "version": 3
   },
   "file_extension": ".py",
   "mimetype": "text/x-python",
   "name": "python",
   "nbconvert_exporter": "python",
   "pygments_lexer": "ipython3",
   "version": "3.10.7"
  }
 },
 "nbformat": 4,
 "nbformat_minor": 5
}
