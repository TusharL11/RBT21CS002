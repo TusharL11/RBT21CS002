{
 "cells": [
  {
   "cell_type": "markdown",
   "id": "f801d0bb",
   "metadata": {},
   "source": [
    "# Ex 3 Using CNN and MNISTdataset, perform digit classification"
   ]
  },
  {
   "cell_type": "code",
   "execution_count": 4,
   "id": "0605f555",
   "metadata": {},
   "outputs": [
    {
     "name": "stdout",
     "output_type": "stream",
     "text": [
      "Epoch 1/10\n",
      "375/375 - 19s - 49ms/step - accuracy: 0.8969 - loss: 0.3384 - val_accuracy: 0.9782 - val_loss: 0.0731\n",
      "Epoch 2/10\n",
      "375/375 - 13s - 35ms/step - accuracy: 0.9682 - loss: 0.1078 - val_accuracy: 0.9843 - val_loss: 0.0527\n",
      "Epoch 3/10\n",
      "375/375 - 13s - 35ms/step - accuracy: 0.9765 - loss: 0.0778 - val_accuracy: 0.9849 - val_loss: 0.0516\n",
      "Epoch 4/10\n",
      "375/375 - 13s - 36ms/step - accuracy: 0.9811 - loss: 0.0636 - val_accuracy: 0.9883 - val_loss: 0.0393\n",
      "Epoch 5/10\n",
      "375/375 - 15s - 40ms/step - accuracy: 0.9834 - loss: 0.0555 - val_accuracy: 0.9881 - val_loss: 0.0432\n",
      "Epoch 6/10\n",
      "375/375 - 13s - 35ms/step - accuracy: 0.9851 - loss: 0.0479 - val_accuracy: 0.9887 - val_loss: 0.0397\n",
      "Epoch 7/10\n",
      "375/375 - 13s - 34ms/step - accuracy: 0.9862 - loss: 0.0441 - val_accuracy: 0.9893 - val_loss: 0.0384\n",
      "Epoch 8/10\n",
      "375/375 - 13s - 35ms/step - accuracy: 0.9887 - loss: 0.0366 - val_accuracy: 0.9906 - val_loss: 0.0358\n",
      "Epoch 9/10\n",
      "375/375 - 13s - 36ms/step - accuracy: 0.9893 - loss: 0.0340 - val_accuracy: 0.9897 - val_loss: 0.0372\n",
      "Epoch 10/10\n",
      "375/375 - 15s - 39ms/step - accuracy: 0.9898 - loss: 0.0321 - val_accuracy: 0.9894 - val_loss: 0.0348\n",
      "313/313 - 2s - 7ms/step - accuracy: 0.9916 - loss: 0.0262\n",
      "Test Accuracy: 0.9916\n"
     ]
    }
   ],
   "source": [
    "import numpy as np\n",
    "import tensorflow as tf\n",
    "from tensorflow.keras.datasets import mnist\n",
    "from tensorflow.keras.models import Sequential\n",
    "from tensorflow.keras.layers import Conv2D, MaxPooling2D, Flatten, Dense, Dropout\n",
    "from tensorflow.keras.utils import to_categorical\n",
    "\n",
    "(X_train, y_train), (X_test, y_test) = mnist.load_data()\n",
    "\n",
    "X_train = X_train.reshape(X_train.shape[0], 28, 28, 1).astype('float32') / 255.0\n",
    "X_test = X_test.reshape(X_test.shape[0], 28, 28, 1).astype('float32') / 255.0\n",
    "\n",
    "y_train = to_categorical(y_train, num_classes=10)\n",
    "y_test = to_categorical(y_test, num_classes=10)\n",
    "\n",
    "\n",
    "model = Sequential()\n",
    "\n",
    "\n",
    "model.add(Conv2D(32, kernel_size=(3, 3), activation='relu', input_shape=(28, 28, 1)))\n",
    "model.add(MaxPooling2D(pool_size=(2, 2)))\n",
    "\n",
    "\n",
    "model.add(Conv2D(64, kernel_size=(3, 3), activation='relu'))\n",
    "model.add(MaxPooling2D(pool_size=(2, 2)))\n",
    "\n",
    "\n",
    "model.add(Flatten())\n",
    "\n",
    "\n",
    "model.add(Dense(128, activation='relu'))\n",
    "\n",
    "\n",
    "model.add(Dropout(0.5))\n",
    "\n",
    "\n",
    "model.add(Dense(10, activation='softmax'))\n",
    "\n",
    "\n",
    "model.compile(optimizer='adam', loss='categorical_crossentropy', metrics=['accuracy'])\n",
    "\n",
    "\n",
    "history = model.fit(X_train, y_train, epochs=10, batch_size=128, validation_split=0.2, verbose=2)\n",
    "\n",
    "\n",
    "test_loss, test_accuracy = model.evaluate(X_test, y_test, verbose=2)\n",
    "\n",
    "print(f'Test Accuracy: {test_accuracy:.4f}')"
   ]
  },
  {
   "cell_type": "code",
   "execution_count": null,
   "id": "876aafcf",
   "metadata": {},
   "outputs": [],
   "source": []
  }
 ],
 "metadata": {
  "kernelspec": {
   "display_name": "Python 3 (ipykernel)",
   "language": "python",
   "name": "python3"
  },
  "language_info": {
   "codemirror_mode": {
    "name": "ipython",
    "version": 3
   },
   "file_extension": ".py",
   "mimetype": "text/x-python",
   "name": "python",
   "nbconvert_exporter": "python",
   "pygments_lexer": "ipython3",
   "version": "3.10.7"
  }
 },
 "nbformat": 4,
 "nbformat_minor": 5
}
